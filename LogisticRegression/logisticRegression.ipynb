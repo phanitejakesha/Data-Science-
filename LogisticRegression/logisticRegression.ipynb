{
 "cells": [
  {
   "cell_type": "markdown",
   "metadata": {},
   "source": [
    "<font size=\"6\">Data Science Homework 3</font><br/><br/>\n",
    "<font size=\"4\">Name: Phani Teja Kesha</font><br/>\n",
    "<font size=\"4\">Student ID: KP38691</font><br/>\n",
    "<font size=\"4\">Email: phani1@umbc.edu</font><br/>"
   ]
  },
  {
   "cell_type": "code",
   "execution_count": 1,
   "metadata": {
    "collapsed": true
   },
   "outputs": [],
   "source": [
    "\"\"\"\n",
    "Author: Phani Teja Kesha\n",
    "\"\"\"\n",
    "import numpy as np\n",
    "import matplotlib.pyplot as plt\n",
    "from sklearn.model_selection import train_test_split\n",
    "from sklearn.preprocessing import normalize\n",
    "import math"
   ]
  },
  {
   "cell_type": "markdown",
   "metadata": {},
   "source": [
    "All the import statements in the program can be found in the above block, we are using imports like numpy, matlplotlib.pyplot,sklearn etc"
   ]
  },
  {
   "cell_type": "code",
   "execution_count": 2,
   "metadata": {
    "collapsed": true
   },
   "outputs": [],
   "source": [
    "\"\"\"\n",
    "Function: InitializeData\n",
    "Input: None\n",
    "Output: trainData,trainLabels\n",
    "\"\"\"\n",
    "def initializeData():\n",
    "    Data = np.loadtxt('mnist_data.txt')\n",
    "    Labels = np.loadtxt('mnist_labels.txt')\n",
    "    trainData = Data/255\n",
    "    trainLabels = Labels\n",
    "    return trainData,trainLabels"
   ]
  },
  {
   "cell_type": "markdown",
   "metadata": {},
   "source": [
    "# The data is divided by 255, To normalize them from 0-1"
   ]
  },
  {
   "cell_type": "code",
   "execution_count": 3,
   "metadata": {
    "collapsed": true
   },
   "outputs": [],
   "source": [
    "\"\"\"\n",
    "Function: Sigmoid\n",
    "Input: List of weights\n",
    "Output: Returns a float value\n",
    "\"\"\"\n",
    "def sigmoid(scores):\n",
    "    return 1 / (1 + np.exp(-scores))"
   ]
  },
  {
   "cell_type": "code",
   "execution_count": 4,
   "metadata": {
    "collapsed": true
   },
   "outputs": [],
   "source": [
    "\"\"\"\n",
    "Function: logisticRegression\n",
    "Input: TrainingData,TrainingLabels, iterations, n(Theta), l(lambda)\n",
    "Output: Returns weight vector\n",
    "\"\"\"\n",
    "def logisticRegression(trainData,trainLabels,iterations,n,l):\n",
    "    lenVector = len(trainData[0])\n",
    "    w = np.zeros(lenVector)\n",
    "    for i in range(iterations):\n",
    "        g = np.zeros(lenVector)\n",
    "        for j in range(0,len(trainData)):\n",
    "            pI = sigmoid(np.dot(trainData[j],w)) - l*math.sqrt(np.sum(abs(w)))\n",
    "            if trainLabels[j]!=8:\n",
    "                checkAns = 0\n",
    "            else:\n",
    "                checkAns = 1\n",
    "            errorI = checkAns-pI \n",
    "            g = g+ errorI*trainData[j]\n",
    "        w = w + n*g     \n",
    "    w = normalize(w[:,np.newaxis], axis=0).ravel()\n",
    "    return w"
   ]
  },
  {
   "cell_type": "markdown",
   "metadata": {},
   "source": [
    "## Regularizer is square root of the absolute sum of each weight vectors\n",
    "## If l = 0 that means regularizer is equal to zero and has no effect on the model"
   ]
  },
  {
   "cell_type": "code",
   "execution_count": 5,
   "metadata": {
    "collapsed": true
   },
   "outputs": [],
   "source": [
    "\"\"\"\n",
    "Function: testing\n",
    "Input: TrainingData,TrainingLabels, weightvector\n",
    "Output: Returns accuracy\n",
    "\"\"\"\n",
    "def testing(testData,testLabels,w):\n",
    "    acc = 0\n",
    "    for i in range(0,len(testData)):\n",
    "        pI = sigmoid(np.dot(testData[i],w))\n",
    "        if pI > 0.5 and testLabels[i]==8:\n",
    "            acc+=1\n",
    "        if pI <0.5 and testLabels[i]!=8:\n",
    "            acc+=1\n",
    "    return (acc/len(testData))*100"
   ]
  },
  {
   "cell_type": "code",
   "execution_count": 6,
   "metadata": {
    "collapsed": true
   },
   "outputs": [],
   "source": [
    "\"\"\"\n",
    "Function: drawWeight\n",
    "Input: weightvector\n",
    "Output: Returns plot of the weight vector\n",
    "\"\"\"\n",
    "def drawWeight(w):\n",
    "    w = w.reshape((28, 28))\n",
    "    plt.imshow(w, cmap='Greys',interpolation='bilinear')\n",
    "    plt.show()"
   ]
  },
  {
   "cell_type": "code",
   "execution_count": 7,
   "metadata": {
    "collapsed": true
   },
   "outputs": [],
   "source": [
    "#Run this block to load the data for the notebook\n",
    "Data = np.loadtxt('mnist_data.txt')\n",
    "Labels = np.loadtxt('mnist_labels.txt')"
   ]
  },
  {
   "cell_type": "code",
   "execution_count": 8,
   "metadata": {},
   "outputs": [],
   "source": [
    "#checking accuracies for the Model with different iterations\n",
    "def iterMain():\n",
    "    iterations = [1,2,3,4,5,10,20,25,50,100,200]\n",
    "    accIterations = []\n",
    "    trainData = Data/255\n",
    "    trainLabels = Labels \n",
    "    for i in iterations:\n",
    "        weightVector = logisticRegression(trainData,trainLabels,i,0.08,0)\n",
    "        accuracy = testing(trainData,trainLabels,weightVector)\n",
    "        accIterations.append(accuracy)\n",
    "    plt.plot(iterations,accIterations)\n",
    "    plt.show()  "
   ]
  },
  {
   "cell_type": "code",
   "execution_count": 9,
   "metadata": {},
   "outputs": [
    {
     "name": "stderr",
     "output_type": "stream",
     "text": [
      "/anaconda3/lib/python3.6/site-packages/ipykernel_launcher.py:7: RuntimeWarning: overflow encountered in exp\n",
      "  import sys\n"
     ]
    },
    {
     "data": {
      "image/png": "[encoded data removed]",
      "text/plain": [
       "<matplotlib.figure.Figure at 0x1508972ba8>"
      ]
     },
     "metadata": {},
     "output_type": "display_data"
    }
   ],
   "source": [
    "iterMain()"
   ]
  },
  {
   "cell_type": "markdown",
   "metadata": {},
   "source": [
    "# Iterations Vs Accuracy \n",
    "Here, I have plotted the iterations vs accuracy from the given training set to set the number of iterations.<br> From the above plot we can see that the accuracy is good at 25 and its becoming constant after 50 iterations. Let's take iterations to be 25. Even though we are having a good accuracies at some higher iterations, it takes larger computation times, even at twenty we can have simlar accuracies. There maybe overfitting if the iterations are very high!"
   ]
  },
  {
   "cell_type": "markdown",
   "metadata": {},
   "source": [
    "# Different lambda vs Accuracies"
   ]
  },
  {
   "cell_type": "code",
   "execution_count": 10,
   "metadata": {
    "collapsed": true
   },
   "outputs": [],
   "source": [
    "\"\"\"\n",
    "Function: main()\n",
    "Input: None\n",
    "Output: None\n",
    "\"\"\"\n",
    "def main():\n",
    "    l = [0,0.00001,0.00002,0.0003,0.0004,0.001,0.005,0.01,0.1,0.2,0.3,0.4]\n",
    "    acc_L = []\n",
    "    for i in l:\n",
    "        trainData = Data/255\n",
    "        trainLabels = Labels \n",
    "        weightVector = logisticRegression(trainData,trainLabels,25,0.0008,i)\n",
    "        accuracy = testing(trainData,trainLabels,weightVector)\n",
    "        acc_L.append(accuracy)\n",
    "        #drawWeight(weightVector)\n",
    "    print(l,acc_L)\n",
    "    plt.plot(l,acc_L)\n",
    "    plt.show()"
   ]
  },
  {
   "cell_type": "code",
   "execution_count": 11,
   "metadata": {},
   "outputs": [
    {
     "name": "stdout",
     "output_type": "stream",
     "text": [
      "[0, 1e-05, 2e-05, 0.0003, 0.0004, 0.001, 0.005, 0.01, 0.1, 0.2, 0.3, 0.4] [90.36, 90.25999999999999, 76.59, 88.32, 77.42999999999999, 91.88, 90.25999999999999, 17.62, 9.74, 9.74, 9.74, 9.74]\n"
     ]
    },
    {
     "data": {
      "image/png": "[encoded data removed]",
      "text/plain": [
       "<matplotlib.figure.Figure at 0x1a12588240>"
      ]
     },
     "metadata": {},
     "output_type": "display_data"
    }
   ],
   "source": [
    "main()"
   ]
  },
  {
   "cell_type": "markdown",
   "metadata": {},
   "source": [
    "In the above code i have taken different Lamda values which were ranging from 0 to 0.4, The accuracy for 0 that is equal to having no regularizer has a accuracy of 90.36, and for very less values of lambda the accuracies are increasing and decreasing untill some values but after a threshold lamda value of 0.1 the accuracies is always 9.74!"
   ]
  },
  {
   "cell_type": "markdown",
   "metadata": {},
   "source": [
    "# why 9.74!"
   ]
  },
  {
   "cell_type": "code",
   "execution_count": 14,
   "metadata": {},
   "outputs": [
    {
     "name": "stdout",
     "output_type": "stream",
     "text": [
      "974\n"
     ]
    }
   ],
   "source": [
    "trainLabels = Labels \n",
    "numberOfeights = 0\n",
    "for i in range(0,len(trainLabels)):\n",
    "    if trainLabels[i]==8:\n",
    "        numberOfeights+=1\n",
    "print(numberOfeights)        "
   ]
  },
  {
   "cell_type": "markdown",
   "metadata": {},
   "source": [
    "There are total 974 eights in the given training set, so that means the model is always predicting the number to be eight. That means the model is biased always towards 8 if the lambda is high! Literally it just predicts all the numbers to be 8, that's the reason the accuracy is 9.74 and the model is underfitted. If lambda is high underfitting occurs and for lower values of lambda the accuracies are decent."
   ]
  },
  {
   "cell_type": "code",
   "execution_count": 12,
   "metadata": {
    "collapsed": true
   },
   "outputs": [],
   "source": [
    "\"\"\"\n",
    "Function: main()\n",
    "Input: None\n",
    "Output: None\n",
    "\"\"\"\n",
    "def main():\n",
    "    l = [0,0.00001,0.00002,0.0003,0.0004,0.001,0.005]\n",
    "    acc_L = []\n",
    "    for i in l:\n",
    "        trainData = Data/255\n",
    "        trainLabels = Labels \n",
    "        weightVector = logisticRegression(trainData,trainLabels,25,0.0008,i)\n",
    "        accuracy = testing(trainData,trainLabels,weightVector)\n",
    "        acc_L.append(accuracy)\n",
    "        #drawWeight(weightVector)\n",
    "    print(l,acc_L)\n",
    "    plt.plot(l,acc_L)\n",
    "    plt.show()"
   ]
  },
  {
   "cell_type": "code",
   "execution_count": 13,
   "metadata": {},
   "outputs": [
    {
     "name": "stdout",
     "output_type": "stream",
     "text": [
      "[0, 1e-05, 2e-05, 0.0003, 0.0004, 0.001, 0.005] [90.36, 90.25999999999999, 76.59, 88.32, 77.42999999999999, 91.88, 90.25999999999999]\n"
     ]
    },
    {
     "data": {
      "image/png": "[encoded data removed]",
      "text/plain": [
       "<matplotlib.figure.Figure at 0x1a12845a20>"
      ]
     },
     "metadata": {},
     "output_type": "display_data"
    }
   ],
   "source": [
    "main()"
   ]
  },
  {
   "cell_type": "markdown",
   "metadata": {},
   "source": [
    "In the above we have tested our model on the same training data which we have used to build the data this may some times lead to overfitting, so i have divided the train and test data into two different parts by selecting 80,20 parts of the dataset. Even in this case for lower lambda values the accuracies are reaching around 93.8 and 93.75 but for higer lambda values the accuracy is alwys 9.75 that means the model is getting underfitted for these values of lamda"
   ]
  },
  {
   "cell_type": "markdown",
   "metadata": {},
   "source": [
    "## Training set accuracy for 8 vs others classification"
   ]
  },
  {
   "cell_type": "code",
   "execution_count": 17,
   "metadata": {
    "collapsed": true
   },
   "outputs": [],
   "source": [
    "def eightClass():\n",
    "    trainData, testData, trainLabels, testLabels = train_test_split(Data, Labels,\n",
    "                                                    stratify=Labels, \n",
    "                                                    test_size=0.20)\n",
    "    weightVector = logisticRegression(trainData,trainLabels,25,0.0008,0.00001)\n",
    "    accuracy = testing(testData,testLabels,weightVector)\n",
    "    print(accuracy)\n",
    "    drawWeight(weightVector)"
   ]
  },
  {
   "cell_type": "code",
   "execution_count": 18,
   "metadata": {},
   "outputs": [
    {
     "name": "stderr",
     "output_type": "stream",
     "text": [
      "/anaconda3/lib/python3.6/site-packages/ipykernel_launcher.py:7: RuntimeWarning: overflow encountered in exp\n",
      "  import sys\n"
     ]
    },
    {
     "name": "stdout",
     "output_type": "stream",
     "text": [
      "90.35\n"
     ]
    },
    {
     "data": {
      "image/png": "[encoded data removed]",
      "text/plain": [
       "<matplotlib.figure.Figure at 0x1a1301c358>"
      ]
     },
     "metadata": {},
     "output_type": "display_data"
    }
   ],
   "source": [
    "eightClass()"
   ]
  },
  {
   "cell_type": "code",
   "execution_count": 19,
   "metadata": {
    "collapsed": true
   },
   "outputs": [],
   "source": [
    "def eightClass():\n",
    "    trainData = Data/255\n",
    "    trainLabels = Labels\n",
    "    weightVector = logisticRegression(trainData,trainLabels,20,0.08,0)\n",
    "    accuracy = testing(trainData,trainLabels,weightVector)\n",
    "    print(accuracy)\n",
    "    drawWeight(weightVector)"
   ]
  },
  {
   "cell_type": "code",
   "execution_count": 20,
   "metadata": {},
   "outputs": [
    {
     "name": "stderr",
     "output_type": "stream",
     "text": [
      "/anaconda3/lib/python3.6/site-packages/ipykernel_launcher.py:7: RuntimeWarning: overflow encountered in exp\n",
      "  import sys\n"
     ]
    },
    {
     "name": "stdout",
     "output_type": "stream",
     "text": [
      "89.38000000000001\n"
     ]
    },
    {
     "data": {
      "image/png": "[encoded data removed]",
      "text/plain": [
       "<matplotlib.figure.Figure at 0x1a13193ba8>"
      ]
     },
     "metadata": {},
     "output_type": "display_data"
    }
   ],
   "source": [
    "eightClass()"
   ]
  },
  {
   "cell_type": "markdown",
   "metadata": {},
   "source": [
    "The training accuracy for 8 vs classification are done using two different testing data sets, in one testing set is same as the training data and in the other testing data it is divided into two parts by sklearn. The accuracy is around 90-92\n"
   ]
  },
  {
   "cell_type": "markdown",
   "metadata": {},
   "source": [
    "# Insights from the image"
   ]
  },
  {
   "cell_type": "markdown",
   "metadata": {},
   "source": [
    "From the image which is formed by the weight vector, we can see that there it is looking like a 8. This is due to the weight vector's pixels has more importance than other pixel's so the image looks like a 8. This is generated after processing all the numbers in the dataset. The image generated is a 8 which is formed from all the eights in the dataset!"
   ]
  }
 ],
 "metadata": {
  "kernelspec": {
   "display_name": "Python 3",
   "language": "python",
   "name": "python3"
  },
  "language_info": {
   "codemirror_mode": {
    "name": "ipython",
    "version": 3
   },
   "file_extension": ".py",
   "mimetype": "text/x-python",
   "name": "python",
   "nbconvert_exporter": "python",
   "pygments_lexer": "ipython3",
   "version": "3.6.3"
  }
 },
 "nbformat": 4,
 "nbformat_minor": 2
}
